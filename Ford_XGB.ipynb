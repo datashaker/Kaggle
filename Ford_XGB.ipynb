{
 "cells": [
  {
   "cell_type": "code",
   "execution_count": null,
   "metadata": {
    "collapsed": true
   },
   "outputs": [],
   "source": [
    "!pip install Orange3\n",
    "!pip install Orange3-spark\n",
    "!pip install Orange3-Timeseries"
   ]
  },
  {
   "cell_type": "code",
   "execution_count": null,
   "metadata": {
    "collapsed": true
   },
   "outputs": [],
   "source": [
    "import xgboost as xgb\n",
    "from pandas import DataFrame,to_numeric\n",
    "from pandas import concat\n",
    "from pandas import set_option\n",
    "from numpy import log\n",
    "from numpy import sqrt\n",
    "from scipy.stats import boxcox\n",
    "from matplotlib import pyplot"
   ]
  },
  {
   "cell_type": "code",
   "execution_count": null,
   "metadata": {
    "collapsed": true
   },
   "outputs": [],
   "source": [
    "def series2dataframe(data, n_in=1, n_out=1, dropnan=True):\n",
    "\tn_vars = 1 if type(data) is list else data.shape[1]\n",
    "\tdf = DataFrame(data)\n",
    "\tcols, names = list(), list(df)\n",
    "\tcols.append(df.shift(0))\n",
    "\tcols.append(df.shift(10))\n",
    "\tcols.append(df.shift(100))\n",
    "\tnames += [x+'(t-10)' for x in names]+[x+'(t-100)' for x in names]\n",
    "\tagg = concat(cols, axis=1)\n",
    "\tagg.columns = names\n",
    "\t# drop rows with NaN values\n",
    "\tif dropnan:\n",
    "\t\tagg.dropna(inplace=True)\n",
    "\treturn agg\n"
   ]
  },
  {
   "cell_type": "code",
   "execution_count": null,
   "metadata": {
    "collapsed": true
   },
   "outputs": [],
   "source": [
    "data = DataFrame.from_csv('Train_FeatureExtracted_FullSamples.csv' )\n",
    "set_option('display.max_rows', 2000)"
   ]
  },
  {
   "cell_type": "code",
   "execution_count": null,
   "metadata": {
    "collapsed": true
   },
   "outputs": [],
   "source": [
    "data.head(5)"
   ]
  },
  {
   "cell_type": "code",
   "execution_count": null,
   "metadata": {
    "collapsed": true
   },
   "outputs": [],
   "source": [
    "# Box-Cox transformation\n",
    "data['V11'], V_lam = boxcox(data['V11'])\n",
    "data['P7'], P_lam = boxcox(data['P7'])\n",
    "print('V Lambda: %f' % V_lam)\n",
    "print('P Lambda: %f' % P_lam)\n",
    "pyplot.figure(1)\n",
    "# line plot\n",
    "pyplot.subplot(211)\n",
    "pyplot.hist(data['V11'])\n",
    "# histogram\n",
    "pyplot.subplot(212)\n",
    "pyplot.hist(data['P7'])\n",
    "pyplot.show()"
   ]
  },
  {
   "cell_type": "code",
   "execution_count": null,
   "metadata": {
    "collapsed": true
   },
   "outputs": [],
   "source": [
    "series = series2dataframe(data)"
   ]
  },
  {
   "cell_type": "code",
   "execution_count": null,
   "metadata": {
    "collapsed": true
   },
   "outputs": [],
   "source": [
    "series = series.drop(['TrialID','TrialID(t-10)','TrialID(t-100)'], axis=1)\n",
    "series = series.reset_index(drop=True)"
   ]
  },
  {
   "cell_type": "code",
   "execution_count": null,
   "metadata": {
    "collapsed": true
   },
   "outputs": [],
   "source": [
    "merged = list()\n",
    "merged.append(series)\n",
    "names = list(series)"
   ]
  },
  {
   "cell_type": "code",
   "execution_count": null,
   "metadata": {
    "collapsed": true
   },
   "outputs": [],
   "source": [
    "#rolling window statistics\n",
    "temps = DataFrame(series[['V11','P7']].values)\n",
    "shifted = temps.shift(50)\n",
    "window = shifted.rolling(window=51)\n",
    "means = window.mean()\n",
    "dataframe = concat([means, temps], axis=1)\n",
    "dataframe.columns = ['V11_mean(t-10,..,t-2,t)', 'V11_t','P7_mean(t-10,..,t-2,t-1)','P7_t']\n",
    "dataframe.dropna(inplace=True)\n",
    "dataframe = dataframe.reset_index(drop=True)\n",
    "print(dataframe.head(10))"
   ]
  },
  {
   "cell_type": "code",
   "execution_count": null,
   "metadata": {
    "collapsed": true
   },
   "outputs": [],
   "source": [
    "merged.append(dataframe)\n",
    "names.append(list(dataframe))"
   ]
  },
  {
   "cell_type": "code",
   "execution_count": null,
   "metadata": {
    "collapsed": true
   },
   "outputs": [],
   "source": [
    "formed = concat(merged,axis =1)\n",
    "formed.head(5)"
   ]
  },
  {
   "cell_type": "code",
   "execution_count": null,
   "metadata": {
    "collapsed": true
   },
   "outputs": [],
   "source": [
    "#expanding window statistics\n",
    "window = temps.expanding()\n",
    "dataframe = concat([window.min(), window.mean(), window.max(), temps.shift(-1)], axis=1)\n",
    "dataframe.columns = ['Vmin', 'Vmean', 'Vmax', 'V(t)','Pmin', 'Pmean', 'Pmax', 'P(t)']\n",
    "dataframe = dataframe.reset_index(drop=True)\n",
    "print(dataframe.head(10))"
   ]
  },
  {
   "cell_type": "code",
   "execution_count": null,
   "metadata": {
    "collapsed": true
   },
   "outputs": [],
   "source": [
    "merged.append(dataframe)\n",
    "names.append(list(dataframe))\n",
    "formed = concat(merged,axis =1)"
   ]
  },
  {
   "cell_type": "code",
   "execution_count": null,
   "metadata": {
    "collapsed": true
   },
   "outputs": [],
   "source": [
    "formed.head(5)"
   ]
  },
  {
   "cell_type": "code",
   "execution_count": null,
   "metadata": {
    "collapsed": true
   },
   "outputs": [],
   "source": [
    "#absolute differences \n",
    "diff_10 = data[['V11','P7']].diff(periods = 10)\n",
    "#diff_10=diff_10.rename(index=str,columns={\"TrialID\": \"TrialID_diff(t-10)\", \"E7\": \"E7_diff(t-10)\",\"E8\":\"E8_diff(t-10)\" ,\"E9\": \"E9_diff(t-10)\",\"V11\":\"V11_diff(t-10)\",\"V10\":\"V10_diff(t-10)\",\"P7\":\"P7_diff(t-10)\",\"IsAlert\":\"IsAlert_diff(t-10)\"})\n",
    "diff_100 = data[['V11','P7']].diff(periods = 100)\n",
    "#diff_100=diff_100.rename(index=str,columns={\"TrialID\": \"TrialID_diff(t-100)\", \"E7\": \"E7_diff(t-100)\",\"E8\":\"E8_diff(t-100)\" ,\"E9\": \"E9_diff(t-100)\",\"V11\":\"V11_diff(t-100)\",\"V10\":\"V10_diff(t-100)\",\"P7\":\"P7_diff(t-100)\",\"IsAlert\":\"IsAlert_diff(t-100)\"})\n",
    "result = concat([diff_10, diff_100], axis=1).abs()\n",
    "result.dropna(inplace=True)\n",
    "result.drop('ObsNum',inplace= True)\n",
    "result.columns = ['V11_diff(t-10)','V11_diff(t-100)','P7_diff(t-10)','P7_diff(t-100)']\n",
    "result.reset_index(drop=True,inplace= True)\n",
    "print(result.head(10))\n"
   ]
  },
  {
   "cell_type": "code",
   "execution_count": null,
   "metadata": {
    "collapsed": true
   },
   "outputs": [],
   "source": [
    "merged.append(result)\n",
    "names.append(list(result))\n",
    "formed = concat(merged,axis =1)"
   ]
  },
  {
   "cell_type": "code",
   "execution_count": null,
   "metadata": {
    "collapsed": true
   },
   "outputs": [],
   "source": [
    "formed.drop(['P7_t','P(t)','V(t)','V11_t'],axis=1,inplace=True)"
   ]
  },
  {
   "cell_type": "code",
   "execution_count": null,
   "metadata": {
    "collapsed": true
   },
   "outputs": [],
   "source": [
    "formed.info()"
   ]
  },
  {
   "cell_type": "code",
   "execution_count": null,
   "metadata": {
    "collapsed": true
   },
   "outputs": [],
   "source": [
    "formed.to_csv('Ford_XGB_Train.csv')"
   ]
  },
  {
   "cell_type": "code",
   "execution_count": null,
   "metadata": {
    "collapsed": true
   },
   "outputs": [],
   "source": [
    "import pickle\n",
    "with open(\"Model.pkcls\", \"rb\") as f:\n",
    "    model = pickle.load(f)"
   ]
  },
  {
   "cell_type": "code",
   "execution_count": null,
   "metadata": {
    "collapsed": true
   },
   "outputs": [],
   "source": [
    "test_numeric = formed.apply(to_numeric)"
   ]
  },
  {
   "cell_type": "code",
   "execution_count": null,
   "metadata": {
    "collapsed": true
   },
   "outputs": [],
   "source": [
    "train_numeric = formed.apply(to_numeric)"
   ]
  },
  {
   "cell_type": "code",
   "execution_count": null,
   "metadata": {
    "collapsed": true
   },
   "outputs": [],
   "source": [
    "train_numeric.sort_index(axis=1, inplace=True)"
   ]
  },
  {
   "cell_type": "code",
   "execution_count": null,
   "metadata": {
    "collapsed": true
   },
   "outputs": [],
   "source": [
    "test_numeric.sort_index(axis=1,inplace=True)"
   ]
  },
  {
   "cell_type": "code",
   "execution_count": null,
   "metadata": {
    "collapsed": true
   },
   "outputs": [],
   "source": [
    "x_train = train_numeric.drop('IsAlert',axis=1) "
   ]
  },
  {
   "cell_type": "code",
   "execution_count": null,
   "metadata": {
    "collapsed": true
   },
   "outputs": [],
   "source": [
    "x_test = test_numeric.drop('IsAlert', axis=1)"
   ]
  },
  {
   "cell_type": "code",
   "execution_count": null,
   "metadata": {
    "collapsed": true
   },
   "outputs": [],
   "source": [
    "y_train = train_numeric['IsAlert']"
   ]
  },
  {
   "cell_type": "code",
   "execution_count": null,
   "metadata": {
    "collapsed": true
   },
   "outputs": [],
   "source": [
    "y_test = test_numeric['IsAlert']"
   ]
  },
  {
   "cell_type": "code",
   "execution_count": null,
   "metadata": {
    "collapsed": true
   },
   "outputs": [],
   "source": [
    "dtrain = xgb.DMatrix(train_numeric,label = y_train)"
   ]
  },
  {
   "cell_type": "code",
   "execution_count": null,
   "metadata": {
    "collapsed": true
   },
   "outputs": [],
   "source": [
    "dtest = xgb.DMatrix(test_numeric,label = y_test)"
   ]
  },
  {
   "cell_type": "code",
   "execution_count": null,
   "metadata": {
    "collapsed": true
   },
   "outputs": [],
   "source": [
    "param = {'max_depth': 2, 'eta': 1, 'silent': 1, 'objective': 'binary:logistic'}\n",
    "param['nthread'] = 4\n",
    "param['eval_metric'] = 'error'\n",
    "plst = param.items()\n",
    "evallist = [(dtest, 'eval'), (dtrain, 'train')]"
   ]
  },
  {
   "cell_type": "code",
   "execution_count": null,
   "metadata": {
    "collapsed": true
   },
   "outputs": [],
   "source": [
    "num_round = 10\n",
    "bst = xgb.train(plst, dtrain, num_round, evallist)"
   ]
  },
  {
   "cell_type": "code",
   "execution_count": null,
   "metadata": {
    "collapsed": true
   },
   "outputs": [],
   "source": [
    "ypred = bst.predict(dtest)"
   ]
  },
  {
   "cell_type": "code",
   "execution_count": null,
   "metadata": {
    "collapsed": true
   },
   "outputs": [],
   "source": [
    "ypred"
   ]
  },
  {
   "cell_type": "code",
   "execution_count": null,
   "metadata": {
    "collapsed": true
   },
   "outputs": [],
   "source": [
    "xgb.plot_importance(bst)"
   ]
  }
 ],
 "metadata": {
  "kernelspec": {
   "display_name": "Python 3",
   "language": "python",
   "name": "python3"
  },
  "language_info": {
   "codemirror_mode": {
    "name": "ipython",
    "version": 3
   },
   "file_extension": ".py",
   "mimetype": "text/x-python",
   "name": "python",
   "nbconvert_exporter": "python",
   "pygments_lexer": "ipython3",
   "version": "3.6.3"
  }
 },
 "nbformat": 4,
 "nbformat_minor": 2
}
